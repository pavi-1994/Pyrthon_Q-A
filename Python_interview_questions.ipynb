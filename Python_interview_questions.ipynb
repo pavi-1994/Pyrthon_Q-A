{
  "nbformat": 4,
  "nbformat_minor": 0,
  "metadata": {
    "colab": {
      "provenance": [],
      "authorship_tag": "ABX9TyNAtVDeQoZWhrDUIxguYd4i",
      "include_colab_link": true
    },
    "kernelspec": {
      "name": "python3",
      "display_name": "Python 3"
    },
    "language_info": {
      "name": "python"
    }
  },
  "cells": [
    {
      "cell_type": "markdown",
      "metadata": {
        "id": "view-in-github",
        "colab_type": "text"
      },
      "source": [
        "<a href=\"https://colab.research.google.com/github/pavi-1994/Python_Q-A/blob/main/Python_interview_questions.ipynb\" target=\"_parent\"><img src=\"https://colab.research.google.com/assets/colab-badge.svg\" alt=\"Open In Colab\"/></a>"
      ]
    },
    {
      "cell_type": "markdown",
      "source": [
        "## **Q1.Find the common letters of strings**.\n"
      ],
      "metadata": {
        "id": "3C05YIogz5Sk"
      }
    },
    {
      "cell_type": "code",
      "execution_count": null,
      "metadata": {
        "colab": {
          "base_uri": "https://localhost:8080/"
        },
        "id": "RqftaPl5zqK5",
        "outputId": "6a184b58-19a9-4e51-cea7-c40663fe9d72"
      },
      "outputs": [
        {
          "name": "stdout",
          "output_type": "stream",
          "text": [
            "pavithra\n",
            "charan\n"
          ]
        }
      ],
      "source": [
        "string1=input()\n",
        "string2= input()"
      ]
    },
    {
      "cell_type": "markdown",
      "source": [
        "## **Ist solution**"
      ],
      "metadata": {
        "id": "xdF9sBBp2mS4"
      }
    },
    {
      "cell_type": "code",
      "source": [
        "def find_common_letter(string1,string2):\n",
        "\n",
        "  lst_string1=list(set(list(string1)))\n",
        "  lst_string2=list(set(list(string2)))\n",
        "  common_letter_list=[]\n",
        "  for i in lst_string1:\n",
        "    if i in lst_string2:\n",
        "      common_letter_list.append(i)\n",
        "  print(common_letter_list)"
      ],
      "metadata": {
        "id": "EIGBVlnV04F2"
      },
      "execution_count": null,
      "outputs": []
    },
    {
      "cell_type": "code",
      "source": [
        "find_common_letter(string1,string2)"
      ],
      "metadata": {
        "colab": {
          "base_uri": "https://localhost:8080/"
        },
        "id": "BOzfw5Mh2PlS",
        "outputId": "eb3ddd61-6d21-4a3e-bfbc-00c8592b7775"
      },
      "execution_count": null,
      "outputs": [
        {
          "output_type": "stream",
          "name": "stdout",
          "text": [
            "['a', 'r', 'h']\n"
          ]
        }
      ]
    },
    {
      "cell_type": "markdown",
      "source": [
        "## **IInd solution**"
      ],
      "metadata": {
        "id": "cT-l5Dyl2af3"
      }
    },
    {
      "cell_type": "code",
      "source": [
        "def find_common_letter_1(string1,string2):\n",
        "  lst_string1=set(list(string1))\n",
        "  lst_string2=set(list(string2))\n",
        "  common_letter_list= lst_string1 & lst_string2\n",
        "  print(common_letter_list)"
      ],
      "metadata": {
        "id": "rZRrXhaE2VML"
      },
      "execution_count": null,
      "outputs": []
    },
    {
      "cell_type": "code",
      "source": [
        "find_common_letter_1(string1,string2)"
      ],
      "metadata": {
        "colab": {
          "base_uri": "https://localhost:8080/"
        },
        "id": "Rny9tTvr3ErL",
        "outputId": "e7c6b214-b2a6-438e-ad71-752728f55e53"
      },
      "execution_count": null,
      "outputs": [
        {
          "output_type": "stream",
          "name": "stdout",
          "text": [
            "{'r', 'a', 'h'}\n"
          ]
        }
      ]
    },
    {
      "cell_type": "markdown",
      "source": [
        "# Q:2\n",
        "\n",
        "## find the frequency of words in string"
      ],
      "metadata": {
        "id": "P20iBIrr6a-i"
      }
    },
    {
      "cell_type": "code",
      "source": [
        "string1=input()\n"
      ],
      "metadata": {
        "colab": {
          "base_uri": "https://localhost:8080/"
        },
        "id": "95JtNN6n3HcB",
        "outputId": "f6157be3-b12e-4c46-c263-d397190ea2ca"
      },
      "execution_count": null,
      "outputs": [
        {
          "name": "stdout",
          "output_type": "stream",
          "text": [
            "I love python. it is easy to learn and easy to write\n"
          ]
        }
      ]
    },
    {
      "cell_type": "code",
      "source": [
        "def count_frequency(string1):\n",
        "  lst_string1 = string1.split(\" \")\n",
        "  freq_dict = {}\n",
        "  for i in lst_string1:\n",
        "    if i not in freq_dict:\n",
        "      freq_dict[i] = 1\n",
        "    else:\n",
        "      freq_dict[i] +=1\n",
        "  return  freq_dict"
      ],
      "metadata": {
        "id": "z2k4v9Kz6sQT"
      },
      "execution_count": null,
      "outputs": []
    },
    {
      "cell_type": "code",
      "source": [
        "print(count_frequency(string1))"
      ],
      "metadata": {
        "colab": {
          "base_uri": "https://localhost:8080/"
        },
        "id": "InIO5rDg6r2X",
        "outputId": "dc51bab9-5b8b-4f1f-de80-56f4a6047327"
      },
      "execution_count": null,
      "outputs": [
        {
          "output_type": "stream",
          "name": "stdout",
          "text": [
            "{'I': 1, 'love': 1, 'python.': 1, 'it': 1, 'is': 1, 'easy': 2, 'to': 2, 'learn': 1, 'and': 1, 'write': 1}\n"
          ]
        }
      ]
    },
    {
      "cell_type": "code",
      "source": [
        "def count_frequency_1(string1):\n",
        "  lst_string1=string1.split(\" \")\n",
        "  lst_string = set(lst_string1)\n",
        "  freq_dict={}\n",
        "  for i in lst_string:\n",
        "    freq_dict[i]=lst_string1.count(i)\n",
        "  print(freq_dict)"
      ],
      "metadata": {
        "id": "Hcv6mneT76k_"
      },
      "execution_count": null,
      "outputs": []
    },
    {
      "cell_type": "code",
      "source": [
        "count_frequency_1(string1)"
      ],
      "metadata": {
        "colab": {
          "base_uri": "https://localhost:8080/"
        },
        "id": "zt1KpNaN9skm",
        "outputId": "1250e25c-9ecf-4c76-a7a4-ca4802ff214c"
      },
      "execution_count": null,
      "outputs": [
        {
          "output_type": "stream",
          "name": "stdout",
          "text": [
            "{'I': 1, 'is': 1, 'it': 1, 'and': 1, 'easy': 2, 'love': 1, 'python.': 1, 'write': 1, 'learn': 1, 'to': 2}\n"
          ]
        }
      ]
    },
    {
      "cell_type": "markdown",
      "source": [
        "## Q3: **Convert list to dictionary**\n",
        "\n",
        "## method 1:"
      ],
      "metadata": {
        "id": "45JhCvY-HtWH"
      }
    },
    {
      "cell_type": "code",
      "source": [
        "def convert_list_dict1(list1, list2):\n",
        "    dict1 = {}\n",
        "\n",
        "    if len(list1) == len(list2):\n",
        "        dict1 = dict(zip(list1, list2))\n",
        "    else:\n",
        "        print(\"Two lists do not have an equal number of elements, so we cannot create a dictionary.\")\n",
        "\n",
        "    return dict1"
      ],
      "metadata": {
        "id": "rXDWPFHGH9ry"
      },
      "execution_count": null,
      "outputs": []
    },
    {
      "cell_type": "code",
      "source": [
        "list1 = input().split(\" \")\n",
        "list2 = input().split(\" \")"
      ],
      "metadata": {
        "colab": {
          "base_uri": "https://localhost:8080/"
        },
        "id": "nHENBt4QIbtv",
        "outputId": "d71c7263-ac93-4ae1-de55-d931a732c422"
      },
      "execution_count": null,
      "outputs": [
        {
          "name": "stdout",
          "output_type": "stream",
          "text": [
            "1 2 3 4\n",
            "one two three four\n"
          ]
        }
      ]
    },
    {
      "cell_type": "code",
      "source": [
        "print(convert_list_dict1(list1,list2))"
      ],
      "metadata": {
        "colab": {
          "base_uri": "https://localhost:8080/"
        },
        "id": "8nl5kF9pIr-u",
        "outputId": "29856d37-1224-4682-ce8d-82805f9c5eae"
      },
      "execution_count": null,
      "outputs": [
        {
          "output_type": "stream",
          "name": "stdout",
          "text": [
            "{'1': 'one', '2': 'two', '3': 'three', '4': 'four'}\n"
          ]
        }
      ]
    },
    {
      "cell_type": "markdown",
      "source": [
        "## method 2:"
      ],
      "metadata": {
        "id": "3J8BuXP_KD1f"
      }
    },
    {
      "cell_type": "code",
      "source": [
        "def convert_list_dict2(list1,list2):\n",
        "  dict1 = {}\n",
        "  if len(list1)== len(list2):\n",
        "     for i in range(0,len(list1)):\n",
        "      dict1[list1[i]]= list2[i]\n",
        "\n",
        "  else:\n",
        "     print(\"Two lists do not have an equal number of elements, so we cannot create a dictionary.\")\n",
        "\n",
        "  return dict1"
      ],
      "metadata": {
        "id": "ID9R3b5DJlyA"
      },
      "execution_count": null,
      "outputs": []
    },
    {
      "cell_type": "code",
      "source": [
        "convert_list_dict2(list1,list2)"
      ],
      "metadata": {
        "colab": {
          "base_uri": "https://localhost:8080/"
        },
        "id": "b5xcIAtqLJBL",
        "outputId": "78a9b100-1839-486f-ad5b-d6eb0c8b9567"
      },
      "execution_count": null,
      "outputs": [
        {
          "output_type": "execute_result",
          "data": {
            "text/plain": [
              "{'1': 'one', '2': 'two', '3': 'three', '4': 'four'}"
            ]
          },
          "metadata": {},
          "execution_count": 42
        }
      ]
    },
    {
      "cell_type": "markdown",
      "source": [
        "## Q4: **Convert dictionary to tuple**\n"
      ],
      "metadata": {
        "id": "lQUFdjqNOAb9"
      }
    },
    {
      "cell_type": "code",
      "source": [
        "def dict_to_tuple(dict1):\n",
        "\n",
        "  return dict1.items()"
      ],
      "metadata": {
        "id": "7t8xpMAGLL2S"
      },
      "execution_count": null,
      "outputs": []
    },
    {
      "cell_type": "code",
      "source": [
        "dict1= dict({'a': 1, 'b': 2, 'c': 3})"
      ],
      "metadata": {
        "id": "_y704ONeOe6b"
      },
      "execution_count": null,
      "outputs": []
    },
    {
      "cell_type": "code",
      "source": [
        "print(tuple(dict_to_tuple(dict1)))"
      ],
      "metadata": {
        "colab": {
          "base_uri": "https://localhost:8080/"
        },
        "id": "FXTvp3IUOYQl",
        "outputId": "9b562fa7-2af1-41fa-ccc3-2f7d24085790"
      },
      "execution_count": null,
      "outputs": [
        {
          "output_type": "stream",
          "name": "stdout",
          "text": [
            "(('a', 1), ('b', 2), ('c', 3))\n"
          ]
        }
      ]
    },
    {
      "cell_type": "markdown",
      "source": [
        "## Q5: FIND MISSING NUMBER IN AN ARRAY IN PYTHON\n"
      ],
      "metadata": {
        "id": "8nFvr09bS0kT"
      }
    },
    {
      "cell_type": "code",
      "source": [
        "def missing_number_array(arr1):\n",
        "  sum_arr= sum(arr1)\n",
        "  max_arr= max(arr1)\n",
        "  summation= max_arr*(max_arr+1)/2\n",
        "  missing_value=summation-sum_arr\n",
        "  return missing_value"
      ],
      "metadata": {
        "id": "-YN0Hk0ROpfI"
      },
      "execution_count": null,
      "outputs": []
    },
    {
      "cell_type": "code",
      "source": [
        "arr1=[1,2,3,4,6]"
      ],
      "metadata": {
        "id": "uxYpchbPTsxx"
      },
      "execution_count": null,
      "outputs": []
    },
    {
      "cell_type": "code",
      "source": [
        "missing_number_array(arr1)"
      ],
      "metadata": {
        "colab": {
          "base_uri": "https://localhost:8080/"
        },
        "id": "YK0MV2gWT9PV",
        "outputId": "76a6a246-e02b-42c4-e44f-1651a1b75bd3"
      },
      "execution_count": null,
      "outputs": [
        {
          "output_type": "execute_result",
          "data": {
            "text/plain": [
              "5.0"
            ]
          },
          "metadata": {},
          "execution_count": 58
        }
      ]
    },
    {
      "cell_type": "markdown",
      "source": [
        "# Q6:Python program to interchange first and last elements in a string\n",
        "#method 1:"
      ],
      "metadata": {
        "id": "QkYBO8ico3Cr"
      }
    },
    {
      "cell_type": "code",
      "source": [
        "def interchange_letters(input_1):\n",
        "\n",
        "     '''function takes list as input\n",
        "       and returns interchanged  output'''\n",
        "\n",
        "     return input_1[-1]+input_1[1:-1]+input_1[0]\n"
      ],
      "metadata": {
        "id": "iOPW9cgvUB0x"
      },
      "execution_count": null,
      "outputs": []
    },
    {
      "cell_type": "code",
      "source": [
        "x = interchange_letters(input())\n",
        "print(x)"
      ],
      "metadata": {
        "colab": {
          "base_uri": "https://localhost:8080/"
        },
        "id": "CNQlXaXKpJUJ",
        "outputId": "7ae28965-e21d-4766-9225-605d9d50cbf7"
      },
      "execution_count": null,
      "outputs": [
        {
          "output_type": "stream",
          "name": "stdout",
          "text": [
            "elements\n",
            "slemente\n"
          ]
        }
      ]
    },
    {
      "cell_type": "code",
      "source": [
        "#method2:\n",
        "def interchange_letters(input_list):\n",
        "\n",
        "     '''function takes list as input\n",
        "     and returns interchanged new list'''\n",
        "\n",
        "     input_list[0],input_list[-1]=input_list[-1],input_list[0]\n",
        "     return input_list\n"
      ],
      "metadata": {
        "id": "3KeY42WXpSKT"
      },
      "execution_count": null,
      "outputs": []
    },
    {
      "cell_type": "code",
      "source": [
        "x_ls=list(input().split())\n",
        "print( interchange_letters(x_ls))\n"
      ],
      "metadata": {
        "colab": {
          "base_uri": "https://localhost:8080/"
        },
        "id": "zwY96upJqkXj",
        "outputId": "15d2acb7-054d-4aff-8ac6-9fcaa11e6a31"
      },
      "execution_count": null,
      "outputs": [
        {
          "output_type": "stream",
          "name": "stdout",
          "text": [
            "1 2 3 4 5 6 \n",
            "['6', '2', '3', '4', '5', '1']\n"
          ]
        }
      ]
    },
    {
      "cell_type": "markdown",
      "source": [
        "## Q7: find out the pairs with given sum of values of array"
      ],
      "metadata": {
        "id": "HhPcHQBTHwXQ"
      }
    },
    {
      "cell_type": "code",
      "source": [
        "arr=[5,7,4,3,9,8,19,21]\n",
        "targeted_sum=17\n"
      ],
      "metadata": {
        "id": "eTv1ukrOq8ah"
      },
      "execution_count": null,
      "outputs": []
    },
    {
      "cell_type": "code",
      "source": [
        "def sum_two_element_array(arr,targeted_sum):\n",
        "  arr.sort()\n",
        "  left=0\n",
        "  right=len(arr)-1\n",
        "  while (left<right):\n",
        "    if (arr[left]+arr[right]> targeted_sum):\n",
        "      right= right -1\n",
        "    elif (arr[left]+arr[right]< targeted_sum):\n",
        "      left = left +1\n",
        "    elif  (arr[left]+arr[right]== targeted_sum):\n",
        "       print(\"Values of pair are\",arr[left],\"&\", arr[right])\n",
        "       right=right-1\n",
        "       left=left+1\n",
        "\n",
        "\n",
        "\n",
        "\n"
      ],
      "metadata": {
        "id": "8PWRps9EIQRb"
      },
      "execution_count": null,
      "outputs": []
    },
    {
      "cell_type": "code",
      "source": [
        "x=sum_two_element_array(arr,targeted_sum)\n",
        "print(x)"
      ],
      "metadata": {
        "colab": {
          "base_uri": "https://localhost:8080/"
        },
        "id": "X0Jy2RG1VD_R",
        "outputId": "417cf88e-febf-4054-ddcb-f680be6b1ccb"
      },
      "execution_count": null,
      "outputs": [
        {
          "output_type": "stream",
          "name": "stdout",
          "text": [
            "Values of pair are 8 & 9\n",
            "None\n"
          ]
        }
      ]
    },
    {
      "cell_type": "code",
      "source": [
        "def sum_two_element(arr, targeted_sum):\n",
        "\n",
        "  for i in arr:\n",
        "    x= (targeted_sum- i)\n",
        "    if x in arr:\n",
        "      print( i, x)\n",
        "    else:\n",
        "      continue\n"
      ],
      "metadata": {
        "id": "qzlorxOhWaUW"
      },
      "execution_count": null,
      "outputs": []
    },
    {
      "cell_type": "code",
      "source": [
        "final_answer=sum_two_element_array(arr,targeted_sum)\n",
        "print(final_answer)"
      ],
      "metadata": {
        "colab": {
          "base_uri": "https://localhost:8080/"
        },
        "id": "wmJa4l_0Wd-a",
        "outputId": "61c25246-1f02-4ad7-a5fd-91a675a4ba73"
      },
      "execution_count": null,
      "outputs": [
        {
          "output_type": "stream",
          "name": "stdout",
          "text": [
            "Values of pair are 8 & 9\n",
            "None\n"
          ]
        }
      ]
    },
    {
      "cell_type": "markdown",
      "source": [
        "## 8. find the length of the list\n",
        "#method1:\n"
      ],
      "metadata": {
        "id": "tG2bqnvGmsOR"
      }
    },
    {
      "cell_type": "code",
      "source": [
        "def find_Length_List(input_list):\n",
        "     length_list = 0\n",
        "     for i in input_list:\n",
        "        length_list +=1\n",
        "     return length_list\n",
        "\n"
      ],
      "metadata": {
        "id": "o_82D9p2mx_X"
      },
      "execution_count": null,
      "outputs": []
    },
    {
      "cell_type": "code",
      "source": [
        "input_list = list(input())\n",
        "x=find_Length_List(input_list)\n",
        "print(x)"
      ],
      "metadata": {
        "id": "gcw4YtqPnGls"
      },
      "execution_count": null,
      "outputs": []
    },
    {
      "cell_type": "markdown",
      "source": [
        "Method 2"
      ],
      "metadata": {
        "id": "kwyf6j4wnBUL"
      }
    },
    {
      "cell_type": "code",
      "source": [
        "#Method-2\n",
        "def find_Length_List(input_list):\n",
        "     return len(input_list)\n",
        "\n"
      ],
      "metadata": {
        "id": "fGIb0xjKgy2L"
      },
      "execution_count": null,
      "outputs": []
    },
    {
      "cell_type": "code",
      "source": [
        "input_list = list(input())\n",
        "x=find_Length_List(input_list)\n",
        "print(x)"
      ],
      "metadata": {
        "colab": {
          "base_uri": "https://localhost:8080/"
        },
        "id": "NUHYF6dWoONO",
        "outputId": "ad6bf353-5174-4359-9ac2-be43e9a2718c"
      },
      "execution_count": null,
      "outputs": [
        {
          "output_type": "stream",
          "name": "stdout",
          "text": [
            "pcvtbfc\n",
            "7\n"
          ]
        }
      ]
    },
    {
      "cell_type": "markdown",
      "source": [
        "## 9. write a Python code to find the Maximum of these two numbers."
      ],
      "metadata": {
        "id": "UjPDNEm2FUnX"
      }
    },
    {
      "cell_type": "code",
      "source": [
        "def greatest_num_between_two_numbers(a,b):\n",
        "\n",
        "     if a>=b:\n",
        "        return a\n",
        "     else:\n",
        "         return b\n",
        "\n"
      ],
      "metadata": {
        "id": "Vsc3wO2Lq5qa"
      },
      "execution_count": null,
      "outputs": []
    },
    {
      "cell_type": "code",
      "source": [
        "\n",
        "a=int(input())\n",
        "b=int(input())\n",
        "print((greatest_num_between_two_numbers(a,b)))"
      ],
      "metadata": {
        "colab": {
          "base_uri": "https://localhost:8080/"
        },
        "id": "jInULzJ4FnmV",
        "outputId": "3135b87f-597a-4de4-9a26-4710628ab6b9"
      },
      "execution_count": null,
      "outputs": [
        {
          "output_type": "stream",
          "name": "stdout",
          "text": [
            "8\n",
            "-1\n",
            "8\n"
          ]
        }
      ]
    },
    {
      "cell_type": "code",
      "source": [
        " # method 2:\n",
        " print(max(a,b))"
      ],
      "metadata": {
        "colab": {
          "base_uri": "https://localhost:8080/"
        },
        "id": "-NO_SboDFx8W",
        "outputId": "2cec2157-160f-49a5-b72e-b5c4f7fbfb15"
      },
      "execution_count": null,
      "outputs": [
        {
          "output_type": "stream",
          "name": "stdout",
          "text": [
            "8\n"
          ]
        }
      ]
    },
    {
      "cell_type": "code",
      "source": [
        "#method 3:\n",
        "print(a if a>=b else b)"
      ],
      "metadata": {
        "colab": {
          "base_uri": "https://localhost:8080/"
        },
        "id": "SxrFtRDnF4b8",
        "outputId": "7647634c-8abd-4f00-e3b2-c904bd9a7f54"
      },
      "execution_count": null,
      "outputs": [
        {
          "output_type": "stream",
          "name": "stdout",
          "text": [
            "8\n"
          ]
        }
      ]
    },
    {
      "cell_type": "code",
      "source": [
        "#method 4:\n",
        "print(sorted([a,b])[1])\n"
      ],
      "metadata": {
        "colab": {
          "base_uri": "https://localhost:8080/"
        },
        "id": "cq6NabQyF-JM",
        "outputId": "ff88000e-f94e-4137-df11-fb57ef50d79b"
      },
      "execution_count": null,
      "outputs": [
        {
          "output_type": "stream",
          "name": "stdout",
          "text": [
            "8\n"
          ]
        }
      ]
    },
    {
      "cell_type": "markdown",
      "source": [
        "\n",
        "# Q9. check if given item present in the list"
      ],
      "metadata": {
        "id": "lRr3ftQPGm3h"
      }
    },
    {
      "cell_type": "code",
      "source": [
        "\n",
        "#method:1\n",
        "\n",
        "def if_exist(given_input, check_element):\n",
        "    if check_element in given_input:\n",
        "        return True\n",
        "    else:\n",
        "        False\n"
      ],
      "metadata": {
        "id": "838-TQzRGFHc"
      },
      "execution_count": null,
      "outputs": []
    },
    {
      "cell_type": "code",
      "source": [
        "\n",
        "given_input=list(input())\n",
        "check_element= input()\n",
        "x= if_exist(given_input,check_element)\n",
        "if x==True:\n",
        "    print(\"exist\")\n",
        "else:\n",
        "    print(\"doesn't exist\")"
      ],
      "metadata": {
        "colab": {
          "base_uri": "https://localhost:8080/"
        },
        "id": "nWlxJ7JBGtoh",
        "outputId": "09e92c3e-3955-4c3a-a4a4-981c80d98f40"
      },
      "execution_count": null,
      "outputs": [
        {
          "output_type": "stream",
          "name": "stdout",
          "text": [
            "1\n",
            "1\n",
            "exist\n"
          ]
        }
      ]
    },
    {
      "cell_type": "markdown",
      "source": [
        "Q10. Write a python program to find the transpose of an image without any inbuilt functions or packages.\n"
      ],
      "metadata": {
        "id": "Mvf2p_gl7SU1"
      }
    },
    {
      "cell_type": "code",
      "source": [
        "def transpose_image(input_image):\n",
        "    rows_of_image = len(input_image)\n",
        "    cols_of_image = len(input_image[0])\n",
        "\n",
        "    for i in range(rows_of_image):\n",
        "        for j in range(i, cols_of_image):\n",
        "            input_image[i][j], input_image[j][i] = input_image[j][i], input_image[i][j]\n",
        "\n",
        "    return input_image"
      ],
      "metadata": {
        "id": "GHzsoC12Guog"
      },
      "execution_count": null,
      "outputs": []
    },
    {
      "cell_type": "code",
      "source": [
        "def print_image(image):\n",
        "    for row in image:\n",
        "        print(' '.join(map(str, row)))\n"
      ],
      "metadata": {
        "id": "Lw4mfJBO7Yra"
      },
      "execution_count": null,
      "outputs": []
    },
    {
      "cell_type": "code",
      "source": [
        "in_image=[[1,2],[4,5]]"
      ],
      "metadata": {
        "id": "GM_6spsC7gC3"
      },
      "execution_count": null,
      "outputs": []
    },
    {
      "cell_type": "code",
      "source": [
        "print_image(in_image)"
      ],
      "metadata": {
        "colab": {
          "base_uri": "https://localhost:8080/"
        },
        "id": "mOf2zF1g7mNb",
        "outputId": "f81349e6-5ef2-4783-af4d-57f42ac131a4"
      },
      "execution_count": null,
      "outputs": [
        {
          "output_type": "stream",
          "name": "stdout",
          "text": [
            "1 2\n",
            "4 5\n"
          ]
        }
      ]
    },
    {
      "cell_type": "markdown",
      "source": [
        "Q11. 2. Write a program in Python to swap two numbers without using a third variable?"
      ],
      "metadata": {
        "id": "B-B6-bkg8OLO"
      }
    },
    {
      "cell_type": "code",
      "source": [
        "def swap_two_numbers(a,b):\n",
        "    a,b=b,a\n",
        "    return a,b"
      ],
      "metadata": {
        "id": "-gWfE5k-7oqV"
      },
      "execution_count": null,
      "outputs": []
    },
    {
      "cell_type": "code",
      "source": [
        "a=10\n",
        "b=20\n",
        "\n",
        "print(swap_two_numbers(a,b))"
      ],
      "metadata": {
        "colab": {
          "base_uri": "https://localhost:8080/"
        },
        "id": "n-TUHV6j8V4a",
        "outputId": "83be50c1-1c00-4910-aa34-a23fa91132ad"
      },
      "execution_count": null,
      "outputs": [
        {
          "output_type": "stream",
          "name": "stdout",
          "text": [
            "(20, 10)\n"
          ]
        }
      ]
    },
    {
      "cell_type": "markdown",
      "source": [
        "Q12.  move zeros to the end of the list"
      ],
      "metadata": {
        "id": "vbMULdiJwe05"
      }
    },
    {
      "cell_type": "code",
      "source": [
        "nums = [0,1,0,3,12]\n",
        "\n",
        "num_output=[]\n",
        "num_zero=[]\n",
        "for i in nums:\n",
        "    if i==0:\n",
        "        num_zero.append(0)\n",
        "    else:\n",
        "        num_output.append(i)\n",
        "\n",
        "num_output.extend(num_zero)\n",
        "\n",
        "print(num_output)"
      ],
      "metadata": {
        "id": "1yGYKtRu8YlE",
        "colab": {
          "base_uri": "https://localhost:8080/"
        },
        "outputId": "cb27bb94-5dde-4113-b126-703684b06339"
      },
      "execution_count": null,
      "outputs": [
        {
          "output_type": "stream",
          "name": "stdout",
          "text": [
            "[1, 3, 12, 0, 0]\n"
          ]
        }
      ]
    },
    {
      "cell_type": "markdown",
      "source": [
        "2nd method"
      ],
      "metadata": {
        "id": "ZgIU_FthxCON"
      }
    },
    {
      "cell_type": "code",
      "source": [
        "\n",
        "for i in nums:\n",
        "    if i==0:\n",
        "        nums.remove(i)\n",
        "        nums.append(0)\n"
      ],
      "metadata": {
        "id": "nhC_Z6jswo7n"
      },
      "execution_count": null,
      "outputs": []
    },
    {
      "cell_type": "code",
      "source": [
        "print(nums)"
      ],
      "metadata": {
        "id": "HXAluT3jxFjB",
        "outputId": "eac7d7c2-2e1a-43c7-9658-1544f7ec1bf9",
        "colab": {
          "base_uri": "https://localhost:8080/"
        }
      },
      "execution_count": null,
      "outputs": [
        {
          "output_type": "stream",
          "name": "stdout",
          "text": [
            "[1, 3, 12, 0, 0]\n"
          ]
        }
      ]
    },
    {
      "cell_type": "markdown",
      "source": [
        "Q13. Write a function that takes a list of numbers and returns the sum."
      ],
      "metadata": {
        "id": "jOVo8xYp-5NI"
      }
    },
    {
      "cell_type": "code",
      "source": [
        "def sum_of_list(ls):\n",
        "  return sum(ls)"
      ],
      "metadata": {
        "id": "cIf2sz1v-7q8"
      },
      "execution_count": 1,
      "outputs": []
    },
    {
      "cell_type": "code",
      "source": [
        "ls=[1, 3, 12, 0, 0]\n",
        "print(sum_of_list(ls))"
      ],
      "metadata": {
        "colab": {
          "base_uri": "https://localhost:8080/"
        },
        "id": "6YIkEck5_EV3",
        "outputId": "3f0990e5-fedb-4667-e3f5-1405b60c707e"
      },
      "execution_count": 2,
      "outputs": [
        {
          "output_type": "stream",
          "name": "stdout",
          "text": [
            "16\n"
          ]
        }
      ]
    },
    {
      "cell_type": "markdown",
      "source": [
        "2nd method"
      ],
      "metadata": {
        "id": "pZKAJKB3_g3C"
      }
    },
    {
      "cell_type": "code",
      "source": [
        "def sum_list_2(ls):\n",
        "  sum_list=0\n",
        "  for i in ls:\n",
        "    sum_list+=i\n",
        "  return sum_list"
      ],
      "metadata": {
        "id": "iKRAeiYa_OUq"
      },
      "execution_count": 3,
      "outputs": []
    },
    {
      "cell_type": "code",
      "source": [
        "ls=[1, 3, 12, 0, 0]\n",
        "print(sum_list_2(ls))"
      ],
      "metadata": {
        "colab": {
          "base_uri": "https://localhost:8080/"
        },
        "id": "kg3zo0td_9KQ",
        "outputId": "1a30af44-6af7-49b9-a327-e0a59b28cf2d"
      },
      "execution_count": 5,
      "outputs": [
        {
          "output_type": "stream",
          "name": "stdout",
          "text": [
            "16\n"
          ]
        }
      ]
    },
    {
      "cell_type": "markdown",
      "source": [
        "### q14.: How do you reverse a string in Python?"
      ],
      "metadata": {
        "id": "bYs4kB7tAHKR"
      }
    },
    {
      "cell_type": "code",
      "source": [
        "def reverse_string(str_input):\n",
        "   return str_input[::-1]"
      ],
      "metadata": {
        "id": "xHSB-nBTAA26"
      },
      "execution_count": 8,
      "outputs": []
    },
    {
      "cell_type": "code",
      "source": [
        "str_input=\"pavithrak\"\n",
        "print(reverse_string(str_input))"
      ],
      "metadata": {
        "colab": {
          "base_uri": "https://localhost:8080/"
        },
        "id": "OII_5mZ5AWTv",
        "outputId": "c32fa925-4f47-4880-bf0d-60f3e32782fb"
      },
      "execution_count": 9,
      "outputs": [
        {
          "output_type": "stream",
          "name": "stdout",
          "text": [
            "karhtivap\n"
          ]
        }
      ]
    },
    {
      "cell_type": "markdown",
      "source": [
        "#### method_2"
      ],
      "metadata": {
        "id": "-mIQl1fYBT2h"
      }
    },
    {
      "cell_type": "code",
      "source": [
        "def reverse_string_2(str_input):\n",
        "    rev_str=\"\"\n",
        "    for i in str_input:\n",
        "        rev_str = i+ rev_str\n",
        "    return  rev_str"
      ],
      "metadata": {
        "id": "ll5rXp0eAjTD"
      },
      "execution_count": 10,
      "outputs": []
    },
    {
      "cell_type": "code",
      "source": [
        "print(reverse_string_2(str_input))"
      ],
      "metadata": {
        "colab": {
          "base_uri": "https://localhost:8080/"
        },
        "id": "K_HG-boNBOMn",
        "outputId": "2c4b9ab5-3f21-45f3-9804-cd12f84b6175"
      },
      "execution_count": 11,
      "outputs": [
        {
          "output_type": "stream",
          "name": "stdout",
          "text": [
            "karhtivap\n"
          ]
        }
      ]
    },
    {
      "cell_type": "markdown",
      "source": [
        "## Q15 What is the difference between a tuple and a list?\n",
        "\n",
        "**tuple and list both are ordered sequential datatype.**\n",
        "difference:\n",
        "\n",
        "\n",
        "tuple:\n",
        "       \n",
        "       1. imutable (you cannot change the elemnts of tuple)\n",
        "       2. tuple written in ()\n",
        "       3. you can use when there is data is need not to be changed\n",
        "       4. faster than list\n",
        "       5. takes less memory compared to list\n",
        "list:\n",
        "\n",
        "     1. is mutable (you can change or update the elements of list)\n",
        "     2. list is written in []\n",
        "     3. you can use when there is data is need to be changed\n",
        "     4. slower than tuple\n",
        "     5. take more memory comapred to tuple"
      ],
      "metadata": {
        "id": "cyOmqPCJBrmE"
      }
    },
    {
      "cell_type": "code",
      "source": [],
      "metadata": {
        "colab": {
          "base_uri": "https://localhost:8080/",
          "height": 140
        },
        "id": "6al0KomkBSHq",
        "outputId": "a446bf1b-5751-4763-c3f4-a0d06b73d830"
      },
      "execution_count": 12,
      "outputs": [
        {
          "output_type": "error",
          "ename": "SyntaxError",
          "evalue": "ignored",
          "traceback": [
            "\u001b[0;36m  File \u001b[0;32m\"<ipython-input-12-545373096385>\"\u001b[0;36m, line \u001b[0;32m1\u001b[0m\n\u001b[0;31m    tuple and list both are ordered sequential datatype.\u001b[0m\n\u001b[0m                   ^\u001b[0m\n\u001b[0;31mSyntaxError\u001b[0m\u001b[0;31m:\u001b[0m invalid syntax\n"
          ]
        }
      ]
    },
    {
      "cell_type": "code",
      "source": [],
      "metadata": {
        "id": "tp59N-GjB8tM"
      },
      "execution_count": null,
      "outputs": []
    }
  ]
}