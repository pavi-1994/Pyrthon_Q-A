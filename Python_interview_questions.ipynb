{
  "nbformat": 4,
  "nbformat_minor": 0,
  "metadata": {
    "colab": {
      "provenance": [],
      "authorship_tag": "ABX9TyM0xLVhwlLDkjSaMSyyqtpd",
      "include_colab_link": true
    },
    "kernelspec": {
      "name": "python3",
      "display_name": "Python 3"
    },
    "language_info": {
      "name": "python"
    }
  },
  "cells": [
    {
      "cell_type": "markdown",
      "metadata": {
        "id": "view-in-github",
        "colab_type": "text"
      },
      "source": [
        "<a href=\"https://colab.research.google.com/github/pavi-1994/Python_Q-A/blob/main/Python_interview_questions.ipynb\" target=\"_parent\"><img src=\"https://colab.research.google.com/assets/colab-badge.svg\" alt=\"Open In Colab\"/></a>"
      ]
    },
    {
      "cell_type": "markdown",
      "source": [
        "## **Find the common letters of strings**.\n"
      ],
      "metadata": {
        "id": "3C05YIogz5Sk"
      }
    },
    {
      "cell_type": "code",
      "execution_count": 2,
      "metadata": {
        "colab": {
          "base_uri": "https://localhost:8080/"
        },
        "id": "RqftaPl5zqK5",
        "outputId": "6a184b58-19a9-4e51-cea7-c40663fe9d72"
      },
      "outputs": [
        {
          "name": "stdout",
          "output_type": "stream",
          "text": [
            "pavithra\n",
            "charan\n"
          ]
        }
      ],
      "source": [
        "string1=input()\n",
        "string2= input()"
      ]
    },
    {
      "cell_type": "markdown",
      "source": [
        "## **Ist solution**"
      ],
      "metadata": {
        "id": "xdF9sBBp2mS4"
      }
    },
    {
      "cell_type": "code",
      "source": [
        "def find_common_letter(string1,string2):\n",
        "\n",
        "  lst_string1=list(set(list(string1)))\n",
        "  lst_string2=list(set(list(string2)))\n",
        "  common_letter_list=[]\n",
        "  for i in lst_string1:\n",
        "    if i in lst_string2:\n",
        "      common_letter_list.append(i)\n",
        "  print(common_letter_list)"
      ],
      "metadata": {
        "id": "EIGBVlnV04F2"
      },
      "execution_count": 3,
      "outputs": []
    },
    {
      "cell_type": "code",
      "source": [
        "find_common_letter(string1,string2)"
      ],
      "metadata": {
        "colab": {
          "base_uri": "https://localhost:8080/"
        },
        "id": "BOzfw5Mh2PlS",
        "outputId": "eb3ddd61-6d21-4a3e-bfbc-00c8592b7775"
      },
      "execution_count": 4,
      "outputs": [
        {
          "output_type": "stream",
          "name": "stdout",
          "text": [
            "['a', 'r', 'h']\n"
          ]
        }
      ]
    },
    {
      "cell_type": "markdown",
      "source": [
        "## **IInd solution**"
      ],
      "metadata": {
        "id": "cT-l5Dyl2af3"
      }
    },
    {
      "cell_type": "code",
      "source": [
        "def find_common_letter_1(string1,string2):\n",
        "  lst_string1=set(list(string1))\n",
        "  lst_string2=set(list(string2))\n",
        "  common_letter_list= lst_string1 & lst_string2\n",
        "  print(common_letter_list)"
      ],
      "metadata": {
        "id": "rZRrXhaE2VML"
      },
      "execution_count": 7,
      "outputs": []
    },
    {
      "cell_type": "code",
      "source": [
        "find_common_letter_1(string1,string2)"
      ],
      "metadata": {
        "colab": {
          "base_uri": "https://localhost:8080/"
        },
        "id": "Rny9tTvr3ErL",
        "outputId": "e7c6b214-b2a6-438e-ad71-752728f55e53"
      },
      "execution_count": 8,
      "outputs": [
        {
          "output_type": "stream",
          "name": "stdout",
          "text": [
            "{'r', 'a', 'h'}\n"
          ]
        }
      ]
    },
    {
      "cell_type": "code",
      "source": [],
      "metadata": {
        "id": "95JtNN6n3HcB"
      },
      "execution_count": null,
      "outputs": []
    }
  ]
}