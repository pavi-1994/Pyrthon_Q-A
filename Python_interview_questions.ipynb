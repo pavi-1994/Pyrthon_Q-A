{
  "nbformat": 4,
  "nbformat_minor": 0,
  "metadata": {
    "colab": {
      "provenance": [],
      "authorship_tag": "ABX9TyOUPgAnISftCqCQK5bRawL0",
      "include_colab_link": true
    },
    "kernelspec": {
      "name": "python3",
      "display_name": "Python 3"
    },
    "language_info": {
      "name": "python"
    }
  },
  "cells": [
    {
      "cell_type": "markdown",
      "metadata": {
        "id": "view-in-github",
        "colab_type": "text"
      },
      "source": [
        "<a href=\"https://colab.research.google.com/github/pavi-1994/Python_Q-A/blob/main/Python_interview_questions.ipynb\" target=\"_parent\"><img src=\"https://colab.research.google.com/assets/colab-badge.svg\" alt=\"Open In Colab\"/></a>"
      ]
    },
    {
      "cell_type": "markdown",
      "source": [
        "## **Find the common letters of strings**.\n"
      ],
      "metadata": {
        "id": "3C05YIogz5Sk"
      }
    },
    {
      "cell_type": "code",
      "execution_count": 2,
      "metadata": {
        "colab": {
          "base_uri": "https://localhost:8080/"
        },
        "id": "RqftaPl5zqK5",
        "outputId": "6a184b58-19a9-4e51-cea7-c40663fe9d72"
      },
      "outputs": [
        {
          "name": "stdout",
          "output_type": "stream",
          "text": [
            "pavithra\n",
            "charan\n"
          ]
        }
      ],
      "source": [
        "string1=input()\n",
        "string2= input()"
      ]
    },
    {
      "cell_type": "markdown",
      "source": [
        "## **Ist solution**"
      ],
      "metadata": {
        "id": "xdF9sBBp2mS4"
      }
    },
    {
      "cell_type": "code",
      "source": [
        "def find_common_letter(string1,string2):\n",
        "\n",
        "  lst_string1=list(set(list(string1)))\n",
        "  lst_string2=list(set(list(string2)))\n",
        "  common_letter_list=[]\n",
        "  for i in lst_string1:\n",
        "    if i in lst_string2:\n",
        "      common_letter_list.append(i)\n",
        "  print(common_letter_list)"
      ],
      "metadata": {
        "id": "EIGBVlnV04F2"
      },
      "execution_count": 3,
      "outputs": []
    },
    {
      "cell_type": "code",
      "source": [
        "find_common_letter(string1,string2)"
      ],
      "metadata": {
        "colab": {
          "base_uri": "https://localhost:8080/"
        },
        "id": "BOzfw5Mh2PlS",
        "outputId": "eb3ddd61-6d21-4a3e-bfbc-00c8592b7775"
      },
      "execution_count": 4,
      "outputs": [
        {
          "output_type": "stream",
          "name": "stdout",
          "text": [
            "['a', 'r', 'h']\n"
          ]
        }
      ]
    },
    {
      "cell_type": "markdown",
      "source": [
        "## **IInd solution**"
      ],
      "metadata": {
        "id": "cT-l5Dyl2af3"
      }
    },
    {
      "cell_type": "code",
      "source": [
        "def find_common_letter_1(string1,string2):\n",
        "  lst_string1=set(list(string1))\n",
        "  lst_string2=set(list(string2))\n",
        "  common_letter_list= lst_string1 & lst_string2\n",
        "  print(common_letter_list)"
      ],
      "metadata": {
        "id": "rZRrXhaE2VML"
      },
      "execution_count": 7,
      "outputs": []
    },
    {
      "cell_type": "code",
      "source": [
        "find_common_letter_1(string1,string2)"
      ],
      "metadata": {
        "colab": {
          "base_uri": "https://localhost:8080/"
        },
        "id": "Rny9tTvr3ErL",
        "outputId": "e7c6b214-b2a6-438e-ad71-752728f55e53"
      },
      "execution_count": 8,
      "outputs": [
        {
          "output_type": "stream",
          "name": "stdout",
          "text": [
            "{'r', 'a', 'h'}\n"
          ]
        }
      ]
    },
    {
      "cell_type": "markdown",
      "source": [
        "# Q:2\n",
        "\n",
        "## find the frequency of words in string"
      ],
      "metadata": {
        "id": "P20iBIrr6a-i"
      }
    },
    {
      "cell_type": "code",
      "source": [
        "string1=input()\n"
      ],
      "metadata": {
        "colab": {
          "base_uri": "https://localhost:8080/"
        },
        "id": "95JtNN6n3HcB",
        "outputId": "f6157be3-b12e-4c46-c263-d397190ea2ca"
      },
      "execution_count": 13,
      "outputs": [
        {
          "name": "stdout",
          "output_type": "stream",
          "text": [
            "I love python. it is easy to learn and easy to write\n"
          ]
        }
      ]
    },
    {
      "cell_type": "code",
      "source": [
        "def count_frequency(string1):\n",
        "  lst_string1 = string1.split(\" \")\n",
        "  freq_dict = {}\n",
        "  for i in lst_string1:\n",
        "    if i not in freq_dict:\n",
        "      freq_dict[i] = 1\n",
        "    else:\n",
        "      freq_dict[i] +=1\n",
        "  return  freq_dict"
      ],
      "metadata": {
        "id": "z2k4v9Kz6sQT"
      },
      "execution_count": 14,
      "outputs": []
    },
    {
      "cell_type": "code",
      "source": [
        "print(count_frequency(string1))"
      ],
      "metadata": {
        "colab": {
          "base_uri": "https://localhost:8080/"
        },
        "id": "InIO5rDg6r2X",
        "outputId": "dc51bab9-5b8b-4f1f-de80-56f4a6047327"
      },
      "execution_count": 15,
      "outputs": [
        {
          "output_type": "stream",
          "name": "stdout",
          "text": [
            "{'I': 1, 'love': 1, 'python.': 1, 'it': 1, 'is': 1, 'easy': 2, 'to': 2, 'learn': 1, 'and': 1, 'write': 1}\n"
          ]
        }
      ]
    },
    {
      "cell_type": "code",
      "source": [
        "def count_frequency_1(string1):\n",
        "  lst_string1=string1.split(\" \")\n",
        "  lst_string = set(lst_string1)\n",
        "  freq_dict={}\n",
        "  for i in lst_string:\n",
        "    freq_dict[i]=lst_string1.count(i)\n",
        "  print(freq_dict)"
      ],
      "metadata": {
        "id": "Hcv6mneT76k_"
      },
      "execution_count": 16,
      "outputs": []
    },
    {
      "cell_type": "code",
      "source": [
        "count_frequency_1(string1)"
      ],
      "metadata": {
        "colab": {
          "base_uri": "https://localhost:8080/"
        },
        "id": "zt1KpNaN9skm",
        "outputId": "1250e25c-9ecf-4c76-a7a4-ca4802ff214c"
      },
      "execution_count": 18,
      "outputs": [
        {
          "output_type": "stream",
          "name": "stdout",
          "text": [
            "{'I': 1, 'is': 1, 'it': 1, 'and': 1, 'easy': 2, 'love': 1, 'python.': 1, 'write': 1, 'learn': 1, 'to': 2}\n"
          ]
        }
      ]
    },
    {
      "cell_type": "code",
      "source": [],
      "metadata": {
        "id": "he_8Y2JC9w-N"
      },
      "execution_count": null,
      "outputs": []
    }
  ]
}