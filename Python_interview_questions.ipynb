{
  "nbformat": 4,
  "nbformat_minor": 0,
  "metadata": {
    "colab": {
      "provenance": [],
      "authorship_tag": "ABX9TyPvuphg9hUUOVPnXYkr0wzg",
      "include_colab_link": true
    },
    "kernelspec": {
      "name": "python3",
      "display_name": "Python 3"
    },
    "language_info": {
      "name": "python"
    }
  },
  "cells": [
    {
      "cell_type": "markdown",
      "metadata": {
        "id": "view-in-github",
        "colab_type": "text"
      },
      "source": [
        "<a href=\"https://colab.research.google.com/github/pavi-1994/Python_Q-A/blob/main/Python_interview_questions.ipynb\" target=\"_parent\"><img src=\"https://colab.research.google.com/assets/colab-badge.svg\" alt=\"Open In Colab\"/></a>"
      ]
    },
    {
      "cell_type": "markdown",
      "source": [
        "## **Q1.Find the common letters of strings**.\n"
      ],
      "metadata": {
        "id": "3C05YIogz5Sk"
      }
    },
    {
      "cell_type": "code",
      "execution_count": null,
      "metadata": {
        "colab": {
          "base_uri": "https://localhost:8080/"
        },
        "id": "RqftaPl5zqK5",
        "outputId": "6a184b58-19a9-4e51-cea7-c40663fe9d72"
      },
      "outputs": [
        {
          "name": "stdout",
          "output_type": "stream",
          "text": [
            "pavithra\n",
            "charan\n"
          ]
        }
      ],
      "source": [
        "string1=input()\n",
        "string2= input()"
      ]
    },
    {
      "cell_type": "markdown",
      "source": [
        "## **Ist solution**"
      ],
      "metadata": {
        "id": "xdF9sBBp2mS4"
      }
    },
    {
      "cell_type": "code",
      "source": [
        "def find_common_letter(string1,string2):\n",
        "\n",
        "  lst_string1=list(set(list(string1)))\n",
        "  lst_string2=list(set(list(string2)))\n",
        "  common_letter_list=[]\n",
        "  for i in lst_string1:\n",
        "    if i in lst_string2:\n",
        "      common_letter_list.append(i)\n",
        "  print(common_letter_list)"
      ],
      "metadata": {
        "id": "EIGBVlnV04F2"
      },
      "execution_count": null,
      "outputs": []
    },
    {
      "cell_type": "code",
      "source": [
        "find_common_letter(string1,string2)"
      ],
      "metadata": {
        "colab": {
          "base_uri": "https://localhost:8080/"
        },
        "id": "BOzfw5Mh2PlS",
        "outputId": "eb3ddd61-6d21-4a3e-bfbc-00c8592b7775"
      },
      "execution_count": null,
      "outputs": [
        {
          "output_type": "stream",
          "name": "stdout",
          "text": [
            "['a', 'r', 'h']\n"
          ]
        }
      ]
    },
    {
      "cell_type": "markdown",
      "source": [
        "## **IInd solution**"
      ],
      "metadata": {
        "id": "cT-l5Dyl2af3"
      }
    },
    {
      "cell_type": "code",
      "source": [
        "def find_common_letter_1(string1,string2):\n",
        "  lst_string1=set(list(string1))\n",
        "  lst_string2=set(list(string2))\n",
        "  common_letter_list= lst_string1 & lst_string2\n",
        "  print(common_letter_list)"
      ],
      "metadata": {
        "id": "rZRrXhaE2VML"
      },
      "execution_count": null,
      "outputs": []
    },
    {
      "cell_type": "code",
      "source": [
        "find_common_letter_1(string1,string2)"
      ],
      "metadata": {
        "colab": {
          "base_uri": "https://localhost:8080/"
        },
        "id": "Rny9tTvr3ErL",
        "outputId": "e7c6b214-b2a6-438e-ad71-752728f55e53"
      },
      "execution_count": null,
      "outputs": [
        {
          "output_type": "stream",
          "name": "stdout",
          "text": [
            "{'r', 'a', 'h'}\n"
          ]
        }
      ]
    },
    {
      "cell_type": "markdown",
      "source": [
        "# Q:2\n",
        "\n",
        "## find the frequency of words in string"
      ],
      "metadata": {
        "id": "P20iBIrr6a-i"
      }
    },
    {
      "cell_type": "code",
      "source": [
        "string1=input()\n"
      ],
      "metadata": {
        "colab": {
          "base_uri": "https://localhost:8080/"
        },
        "id": "95JtNN6n3HcB",
        "outputId": "f6157be3-b12e-4c46-c263-d397190ea2ca"
      },
      "execution_count": null,
      "outputs": [
        {
          "name": "stdout",
          "output_type": "stream",
          "text": [
            "I love python. it is easy to learn and easy to write\n"
          ]
        }
      ]
    },
    {
      "cell_type": "code",
      "source": [
        "def count_frequency(string1):\n",
        "  lst_string1 = string1.split(\" \")\n",
        "  freq_dict = {}\n",
        "  for i in lst_string1:\n",
        "    if i not in freq_dict:\n",
        "      freq_dict[i] = 1\n",
        "    else:\n",
        "      freq_dict[i] +=1\n",
        "  return  freq_dict"
      ],
      "metadata": {
        "id": "z2k4v9Kz6sQT"
      },
      "execution_count": null,
      "outputs": []
    },
    {
      "cell_type": "code",
      "source": [
        "print(count_frequency(string1))"
      ],
      "metadata": {
        "colab": {
          "base_uri": "https://localhost:8080/"
        },
        "id": "InIO5rDg6r2X",
        "outputId": "dc51bab9-5b8b-4f1f-de80-56f4a6047327"
      },
      "execution_count": null,
      "outputs": [
        {
          "output_type": "stream",
          "name": "stdout",
          "text": [
            "{'I': 1, 'love': 1, 'python.': 1, 'it': 1, 'is': 1, 'easy': 2, 'to': 2, 'learn': 1, 'and': 1, 'write': 1}\n"
          ]
        }
      ]
    },
    {
      "cell_type": "code",
      "source": [
        "def count_frequency_1(string1):\n",
        "  lst_string1=string1.split(\" \")\n",
        "  lst_string = set(lst_string1)\n",
        "  freq_dict={}\n",
        "  for i in lst_string:\n",
        "    freq_dict[i]=lst_string1.count(i)\n",
        "  print(freq_dict)"
      ],
      "metadata": {
        "id": "Hcv6mneT76k_"
      },
      "execution_count": null,
      "outputs": []
    },
    {
      "cell_type": "code",
      "source": [
        "count_frequency_1(string1)"
      ],
      "metadata": {
        "colab": {
          "base_uri": "https://localhost:8080/"
        },
        "id": "zt1KpNaN9skm",
        "outputId": "1250e25c-9ecf-4c76-a7a4-ca4802ff214c"
      },
      "execution_count": null,
      "outputs": [
        {
          "output_type": "stream",
          "name": "stdout",
          "text": [
            "{'I': 1, 'is': 1, 'it': 1, 'and': 1, 'easy': 2, 'love': 1, 'python.': 1, 'write': 1, 'learn': 1, 'to': 2}\n"
          ]
        }
      ]
    },
    {
      "cell_type": "markdown",
      "source": [
        "## Q3: **Convert list to dictionary**\n",
        "\n",
        "## method 1:"
      ],
      "metadata": {
        "id": "45JhCvY-HtWH"
      }
    },
    {
      "cell_type": "code",
      "source": [
        "def convert_list_dict1(list1, list2):\n",
        "    dict1 = {}\n",
        "\n",
        "    if len(list1) == len(list2):\n",
        "        dict1 = dict(zip(list1, list2))\n",
        "    else:\n",
        "        print(\"Two lists do not have an equal number of elements, so we cannot create a dictionary.\")\n",
        "\n",
        "    return dict1"
      ],
      "metadata": {
        "id": "rXDWPFHGH9ry"
      },
      "execution_count": null,
      "outputs": []
    },
    {
      "cell_type": "code",
      "source": [
        "list1 = input().split(\" \")\n",
        "list2 = input().split(\" \")"
      ],
      "metadata": {
        "colab": {
          "base_uri": "https://localhost:8080/"
        },
        "id": "nHENBt4QIbtv",
        "outputId": "d71c7263-ac93-4ae1-de55-d931a732c422"
      },
      "execution_count": null,
      "outputs": [
        {
          "name": "stdout",
          "output_type": "stream",
          "text": [
            "1 2 3 4\n",
            "one two three four\n"
          ]
        }
      ]
    },
    {
      "cell_type": "code",
      "source": [
        "print(convert_list_dict1(list1,list2))"
      ],
      "metadata": {
        "colab": {
          "base_uri": "https://localhost:8080/"
        },
        "id": "8nl5kF9pIr-u",
        "outputId": "29856d37-1224-4682-ce8d-82805f9c5eae"
      },
      "execution_count": null,
      "outputs": [
        {
          "output_type": "stream",
          "name": "stdout",
          "text": [
            "{'1': 'one', '2': 'two', '3': 'three', '4': 'four'}\n"
          ]
        }
      ]
    },
    {
      "cell_type": "markdown",
      "source": [
        "## method 2:"
      ],
      "metadata": {
        "id": "3J8BuXP_KD1f"
      }
    },
    {
      "cell_type": "code",
      "source": [
        "def convert_list_dict2(list1,list2):\n",
        "  dict1 = {}\n",
        "  if len(list1)== len(list2):\n",
        "     for i in range(0,len(list1)):\n",
        "      dict1[list1[i]]= list2[i]\n",
        "\n",
        "  else:\n",
        "     print(\"Two lists do not have an equal number of elements, so we cannot create a dictionary.\")\n",
        "\n",
        "  return dict1"
      ],
      "metadata": {
        "id": "ID9R3b5DJlyA"
      },
      "execution_count": null,
      "outputs": []
    },
    {
      "cell_type": "code",
      "source": [
        "convert_list_dict2(list1,list2)"
      ],
      "metadata": {
        "colab": {
          "base_uri": "https://localhost:8080/"
        },
        "id": "b5xcIAtqLJBL",
        "outputId": "78a9b100-1839-486f-ad5b-d6eb0c8b9567"
      },
      "execution_count": null,
      "outputs": [
        {
          "output_type": "execute_result",
          "data": {
            "text/plain": [
              "{'1': 'one', '2': 'two', '3': 'three', '4': 'four'}"
            ]
          },
          "metadata": {},
          "execution_count": 42
        }
      ]
    },
    {
      "cell_type": "markdown",
      "source": [
        "## Q4: **Convert dictionary to tuple**\n"
      ],
      "metadata": {
        "id": "lQUFdjqNOAb9"
      }
    },
    {
      "cell_type": "code",
      "source": [
        "def dict_to_tuple(dict1):\n",
        "\n",
        "  return dict1.items()"
      ],
      "metadata": {
        "id": "7t8xpMAGLL2S"
      },
      "execution_count": null,
      "outputs": []
    },
    {
      "cell_type": "code",
      "source": [
        "dict1= dict({'a': 1, 'b': 2, 'c': 3})"
      ],
      "metadata": {
        "id": "_y704ONeOe6b"
      },
      "execution_count": null,
      "outputs": []
    },
    {
      "cell_type": "code",
      "source": [
        "print(tuple(dict_to_tuple(dict1)))"
      ],
      "metadata": {
        "colab": {
          "base_uri": "https://localhost:8080/"
        },
        "id": "FXTvp3IUOYQl",
        "outputId": "9b562fa7-2af1-41fa-ccc3-2f7d24085790"
      },
      "execution_count": null,
      "outputs": [
        {
          "output_type": "stream",
          "name": "stdout",
          "text": [
            "(('a', 1), ('b', 2), ('c', 3))\n"
          ]
        }
      ]
    },
    {
      "cell_type": "markdown",
      "source": [
        "## Q5: FIND MISSING NUMBER IN AN ARRAY IN PYTHON\n"
      ],
      "metadata": {
        "id": "8nFvr09bS0kT"
      }
    },
    {
      "cell_type": "code",
      "source": [
        "def missing_number_array(arr1):\n",
        "  sum_arr= sum(arr1)\n",
        "  max_arr= max(arr1)\n",
        "  summation= max_arr*(max_arr+1)/2\n",
        "  missing_value=summation-sum_arr\n",
        "  return missing_value"
      ],
      "metadata": {
        "id": "-YN0Hk0ROpfI"
      },
      "execution_count": null,
      "outputs": []
    },
    {
      "cell_type": "code",
      "source": [
        "arr1=[1,2,3,4,6]"
      ],
      "metadata": {
        "id": "uxYpchbPTsxx"
      },
      "execution_count": null,
      "outputs": []
    },
    {
      "cell_type": "code",
      "source": [
        "missing_number_array(arr1)"
      ],
      "metadata": {
        "colab": {
          "base_uri": "https://localhost:8080/"
        },
        "id": "YK0MV2gWT9PV",
        "outputId": "76a6a246-e02b-42c4-e44f-1651a1b75bd3"
      },
      "execution_count": null,
      "outputs": [
        {
          "output_type": "execute_result",
          "data": {
            "text/plain": [
              "5.0"
            ]
          },
          "metadata": {},
          "execution_count": 58
        }
      ]
    },
    {
      "cell_type": "markdown",
      "source": [
        "# Q6:Python program to interchange first and last elements in a string\n",
        "#method 1:"
      ],
      "metadata": {
        "id": "QkYBO8ico3Cr"
      }
    },
    {
      "cell_type": "code",
      "source": [
        "def interchange_letters(input_1):\n",
        "\n",
        "     '''function takes list as input\n",
        "       and returns interchanged  output'''\n",
        "\n",
        "     return input_1[-1]+input_1[1:-1]+input_1[0]\n"
      ],
      "metadata": {
        "id": "iOPW9cgvUB0x"
      },
      "execution_count": 4,
      "outputs": []
    },
    {
      "cell_type": "code",
      "source": [
        "x = interchange_letters(input())\n",
        "print(x)"
      ],
      "metadata": {
        "colab": {
          "base_uri": "https://localhost:8080/"
        },
        "id": "CNQlXaXKpJUJ",
        "outputId": "7ae28965-e21d-4766-9225-605d9d50cbf7"
      },
      "execution_count": 5,
      "outputs": [
        {
          "output_type": "stream",
          "name": "stdout",
          "text": [
            "elements\n",
            "slemente\n"
          ]
        }
      ]
    },
    {
      "cell_type": "code",
      "source": [
        "#method2:\n",
        "def interchange_letters(input_list):\n",
        "\n",
        "     '''function takes list as input\n",
        "     and returns interchanged new list'''\n",
        "\n",
        "     input_list[0],input_list[-1]=input_list[-1],input_list[0]\n",
        "     return input_list\n"
      ],
      "metadata": {
        "id": "3KeY42WXpSKT"
      },
      "execution_count": 6,
      "outputs": []
    },
    {
      "cell_type": "code",
      "source": [
        "x_ls=list(input().split())\n",
        "print( interchange_letters(x_ls))\n"
      ],
      "metadata": {
        "colab": {
          "base_uri": "https://localhost:8080/"
        },
        "id": "zwY96upJqkXj",
        "outputId": "15d2acb7-054d-4aff-8ac6-9fcaa11e6a31"
      },
      "execution_count": 9,
      "outputs": [
        {
          "output_type": "stream",
          "name": "stdout",
          "text": [
            "1 2 3 4 5 6 \n",
            "['6', '2', '3', '4', '5', '1']\n"
          ]
        }
      ]
    },
    {
      "cell_type": "code",
      "source": [],
      "metadata": {
        "id": "eTv1ukrOq8ah"
      },
      "execution_count": 8,
      "outputs": []
    }
  ]
}